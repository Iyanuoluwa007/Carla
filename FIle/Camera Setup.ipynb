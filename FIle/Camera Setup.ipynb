{
 "cells": [
  {
   "cell_type": "code",
   "execution_count": 1,
   "id": "79ced2f5-651b-4ebb-8e80-3cd21cb55a56",
   "metadata": {},
   "outputs": [],
   "source": [
    "import carla\n",
    "import math\n",
    "import random\n",
    "import time\n",
    "import numpy as np\n",
    "import cv2"
   ]
  },
  {
   "cell_type": "code",
   "execution_count": 2,
   "id": "5047299e-746f-4b1b-9a9f-147a3dd866aa",
   "metadata": {},
   "outputs": [],
   "source": [
    "client = carla.Client('localhost', 2000)\n",
    "world = client.get_world()"
   ]
  },
  {
   "cell_type": "code",
   "execution_count": 3,
   "id": "cc54f1da-501a-4626-82a3-11c27771ec54",
   "metadata": {},
   "outputs": [],
   "source": [
    "# client.load_world('Town10HD_Opt')"
   ]
  },
  {
   "cell_type": "code",
   "execution_count": 4,
   "id": "704c2995-caf9-4f23-8fc3-d2592a0d6654",
   "metadata": {},
   "outputs": [],
   "source": [
    "bp_lib = world.get_blueprint_library()\n",
    "spawn_points = world.get_map().get_spawn_points()"
   ]
  },
  {
   "cell_type": "code",
   "execution_count": 5,
   "id": "c7d4ef8f-d8bb-412b-a11e-c2677e03c0b9",
   "metadata": {},
   "outputs": [],
   "source": [
    "vehicle_bp = bp_lib.find('vehicle.dodge.charger')\n",
    "vehicle = world.try_spawn_actor(vehicle_bp, random.choice(spawn_points))\n",
    "\n",
    "spectator = world.get_spectator()\n",
    "transform = carla.Transform(vehicle.get_transform().transform(carla.Location(x=-4, z=2.5)), vehicle.get_transform().rotation)\n",
    "spectator.set_transform(transform)"
   ]
  },
  {
   "cell_type": "code",
   "execution_count": 6,
   "id": "8949758e-90f9-4aa6-ae80-a9d736b79646",
   "metadata": {},
   "outputs": [],
   "source": [
    "# RGB camera\n",
    "camera_bp = bp_lib.find('sensor.camera.rgb')\n",
    "camera_init_trans = carla.Transform(carla.Location(z=1.6, x=0.1))\n",
    "camera = world.spawn_actor(camera_bp, camera_init_trans, attach_to=vehicle)"
   ]
  },
  {
   "cell_type": "code",
   "execution_count": 7,
   "id": "60e9f0fe-5362-4619-8a50-3b59d65006fd",
   "metadata": {},
   "outputs": [],
   "source": [
    "time.sleep(0.2)\n",
    "spectator.set_transform(camera.get_transform())\n",
    "# camera.destroy()"
   ]
  },
  {
   "cell_type": "code",
   "execution_count": 8,
   "id": "f0bc6238-f488-43bd-b693-bc5723118292",
   "metadata": {},
   "outputs": [],
   "source": [
    "# camera.listen(lambda image: image.save_to_disk('out/%06d.png' % image.frame)) # Save camera output\n",
    "\n",
    "# camera.stop() # Stop camera operation"
   ]
  },
  {
   "cell_type": "code",
   "execution_count": 9,
   "id": "a95287bc-95bd-4747-b63e-f124957b604c",
   "metadata": {},
   "outputs": [],
   "source": [
    "def camera_callback(image, data_dict):\n",
    "    data_dict['image'] = np.copy(image.raw_data).reshape((image.height, image.width, 4)).astype(np.uint8)"
   ]
  },
  {
   "cell_type": "code",
   "execution_count": 10,
   "id": "acf838ca-94cb-4eda-9a02-e8c60f4e0b78",
   "metadata": {},
   "outputs": [],
   "source": [
    "image_w = camera_bp.get_attribute('image_size_x').as_int()\n",
    "image_h = camera_bp.get_attribute('image_size_y').as_int()\n",
    "\n",
    "camera_data = {'image': np.zeros((image_h, image_w, 4))}\n",
    "\n",
    "camera.listen(lambda image: camera_callback(image, camera_data))"
   ]
  },
  {
   "cell_type": "code",
   "execution_count": 11,
   "id": "32f1c804-9fcc-4321-b834-38b80f007271",
   "metadata": {},
   "outputs": [],
   "source": [
    "traffic_manager = client.get_trafficmanager()\n",
    "vehicle.set_autopilot(True, traffic_manager.get_port())"
   ]
  },
  {
   "cell_type": "code",
   "execution_count": null,
   "id": "1e2ef7df-5464-4341-9e00-fe71a4fe3a30",
   "metadata": {},
   "outputs": [],
   "source": [
    "cv2.namedWindow('RGB Camera', cv2.WINDOW_AUTOSIZE)\n",
    "cv2.imshow('RGB Camera', camera_data['image'])\n",
    "cv2.waitKey(1)\n",
    "\n",
    "while True:\n",
    "    cv2.imshow('RGB Camera', camera_data['image'])\n",
    "\n",
    "    if cv2.waitKey(1) == ord('q'):\n",
    "        break\n",
    "cv2.destroyAllWindows()"
   ]
  },
  {
   "cell_type": "code",
   "execution_count": null,
   "id": "292005e3-57b4-497f-bd95-dddb3504ed0a",
   "metadata": {},
   "outputs": [],
   "source": []
  },
  {
   "cell_type": "code",
   "execution_count": null,
   "id": "acbc38da-d7b5-4e4f-b551-c6c8710e110d",
   "metadata": {},
   "outputs": [],
   "source": []
  }
 ],
 "metadata": {
  "kernelspec": {
   "display_name": "Python 3 (ipykernel)",
   "language": "python",
   "name": "python3"
  },
  "language_info": {
   "codemirror_mode": {
    "name": "ipython",
    "version": 3
   },
   "file_extension": ".py",
   "mimetype": "text/x-python",
   "name": "python",
   "nbconvert_exporter": "python",
   "pygments_lexer": "ipython3",
   "version": "3.10.16"
  }
 },
 "nbformat": 4,
 "nbformat_minor": 5
}
