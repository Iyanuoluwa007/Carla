{
 "cells": [
  {
   "cell_type": "code",
   "execution_count": 2,
   "id": "4007373c-1811-4198-8ff5-a1fe9e6fd64b",
   "metadata": {},
   "outputs": [],
   "source": [
    "import time\n",
    "import threading\n",
    "\n",
    "import cv2 \n",
    "import numpy as np\n",
    "import matplotlib.pyplot as plt\n",
    "%matplotlib inline\n",
    "\n",
    "from carla_setup import connect_to_carla\n",
    "from traffic_manager import disable_traffic_manager\n",
    "from traffic_light_controller import control_traffic_lights"
   ]
  },
  {
   "cell_type": "code",
   "execution_count": 4,
   "id": "b074df26-a619-41b1-a9d0-cea3f374d3ea",
   "metadata": {},
   "outputs": [
    {
     "ename": "RuntimeError",
     "evalue": "No connection could be made because the target machine actively refused it.",
     "output_type": "error",
     "traceback": [
      "\u001b[1;31m---------------------------------------------------------------------------\u001b[0m",
      "\u001b[1;31mRuntimeError\u001b[0m                              Traceback (most recent call last)",
      "Cell \u001b[1;32mIn[4], line 2\u001b[0m\n\u001b[0;32m      1\u001b[0m \u001b[38;5;66;03m# Connect to CARLA\u001b[39;00m\n\u001b[1;32m----> 2\u001b[0m client, world \u001b[38;5;241m=\u001b[39m \u001b[43mconnect_to_carla\u001b[49m\u001b[43m(\u001b[49m\u001b[43m)\u001b[49m\n",
      "File \u001b[1;32m~\\OneDrive - University of Salford\\Documents\\Sch Notes\\Dissertation\\Codes\\carla_setup.py:7\u001b[0m, in \u001b[0;36mconnect_to_carla\u001b[1;34m()\u001b[0m\n\u001b[0;32m      5\u001b[0m client \u001b[38;5;241m=\u001b[39m carla\u001b[38;5;241m.\u001b[39mClient(\u001b[38;5;124m'\u001b[39m\u001b[38;5;124mlocalhost\u001b[39m\u001b[38;5;124m'\u001b[39m, \u001b[38;5;241m2000\u001b[39m)\n\u001b[0;32m      6\u001b[0m client\u001b[38;5;241m.\u001b[39mset_timeout(\u001b[38;5;241m10.0\u001b[39m)\n\u001b[1;32m----> 7\u001b[0m world \u001b[38;5;241m=\u001b[39m \u001b[43mclient\u001b[49m\u001b[38;5;241;43m.\u001b[39;49m\u001b[43mget_world\u001b[49m\u001b[43m(\u001b[49m\u001b[43m)\u001b[49m\n\u001b[0;32m      8\u001b[0m \u001b[38;5;28;01mreturn\u001b[39;00m client, world\n",
      "\u001b[1;31mRuntimeError\u001b[0m: No connection could be made because the target machine actively refused it."
     ]
    }
   ],
   "source": [
    "# Connect to CARLA\n",
    "client, world = connect_to_carla()"
   ]
  },
  {
   "cell_type": "code",
   "execution_count": null,
   "id": "5ccf3898-d8fb-41a1-8773-d4db5e99ebb8",
   "metadata": {},
   "outputs": [],
   "source": [
    "# Disable NPCs and Traffic Manager\n",
    "disable_traffic_manager(client)"
   ]
  },
  {
   "cell_type": "code",
   "execution_count": 5,
   "id": "dc3602d6-1e42-478a-8a3e-0f075cba436b",
   "metadata": {},
   "outputs": [
    {
     "ename": "NameError",
     "evalue": "name 'threading' is not defined",
     "output_type": "error",
     "traceback": [
      "\u001b[1;31m---------------------------------------------------------------------------\u001b[0m",
      "\u001b[1;31mNameError\u001b[0m                                 Traceback (most recent call last)",
      "Cell \u001b[1;32mIn[5], line 11\u001b[0m\n\u001b[0;32m      8\u001b[0m         control_traffic_lights(world)\n\u001b[0;32m     10\u001b[0m \u001b[38;5;66;03m# Start the thread\u001b[39;00m\n\u001b[1;32m---> 11\u001b[0m traffic_thread \u001b[38;5;241m=\u001b[39m \u001b[43mthreading\u001b[49m\u001b[38;5;241m.\u001b[39mThread(target\u001b[38;5;241m=\u001b[39mrun_traffic_lights, args\u001b[38;5;241m=\u001b[39m(world,), daemon\u001b[38;5;241m=\u001b[39m\u001b[38;5;28;01mTrue\u001b[39;00m)\n\u001b[0;32m     12\u001b[0m traffic_thread\u001b[38;5;241m.\u001b[39mstart()\n\u001b[0;32m     14\u001b[0m \u001b[38;5;28mprint\u001b[39m(\u001b[38;5;124m\"\u001b[39m\u001b[38;5;124mTraffic light control started in the background!\u001b[39m\u001b[38;5;124m\"\u001b[39m)\n",
      "\u001b[1;31mNameError\u001b[0m: name 'threading' is not defined"
     ]
    }
   ],
   "source": [
    "# Define a global variable to stop the thread safely\n",
    "stop_traffic_thread = False\n",
    "\n",
    "# Function wrapper to allow safe stopping\n",
    "def run_traffic_lights(world):\n",
    "    global stop_traffic_thread\n",
    "    while not stop_traffic_thread:\n",
    "        control_traffic_lights(world)\n",
    "\n",
    "# Start the thread\n",
    "traffic_thread = threading.Thread(target=run_traffic_lights, args=(world,), daemon=True)\n",
    "traffic_thread.start()\n",
    "\n",
    "print(\"Traffic light control started in the background!\")"
   ]
  },
  {
   "cell_type": "code",
   "execution_count": 6,
   "id": "cde81953-e437-46d2-9a75-8d22c5a696e4",
   "metadata": {},
   "outputs": [
    {
     "ename": "NameError",
     "evalue": "name 'traffic_thread' is not defined",
     "output_type": "error",
     "traceback": [
      "\u001b[1;31m---------------------------------------------------------------------------\u001b[0m",
      "\u001b[1;31mNameError\u001b[0m                                 Traceback (most recent call last)",
      "Cell \u001b[1;32mIn[6], line 2\u001b[0m\n\u001b[0;32m      1\u001b[0m \u001b[38;5;66;03m# Check if the traffic light thread is still active\u001b[39;00m\n\u001b[1;32m----> 2\u001b[0m \u001b[43mtraffic_thread\u001b[49m\u001b[38;5;241m.\u001b[39mis_alive()\n",
      "\u001b[1;31mNameError\u001b[0m: name 'traffic_thread' is not defined"
     ]
    }
   ],
   "source": [
    "# # Check if the traffic light thread is still active\n",
    "# traffic_thread.is_alive()"
   ]
  },
  {
   "cell_type": "code",
   "execution_count": 7,
   "id": "23dc92ee-3539-4b27-94d5-61a9a15238e0",
   "metadata": {},
   "outputs": [],
   "source": [
    "# # Stop the traffic light thread\n",
    "# stop_traffic_thread = True\n",
    "\n",
    "# # Wait for the thread to finish\n",
    "# traffic_thread.join()\n",
    "\n",
    "# print(\"Traffic light control has been stopped.\")"
   ]
  },
  {
   "cell_type": "code",
   "execution_count": null,
   "id": "5db1b410-a7bf-47b1-8d79-08ef7007d1a9",
   "metadata": {},
   "outputs": [],
   "source": [
    "# Spawn your vehicle\n",
    "vehicle = spawn_vehicle(client)"
   ]
  },
  {
   "cell_type": "code",
   "execution_count": null,
   "id": "35c0f390-840f-4887-bc3b-01fefff661e2",
   "metadata": {},
   "outputs": [],
   "source": [
    "# Move the vehicle forward\n",
    "drive_forward(vehicle, throttle=0.5)"
   ]
  },
  {
   "cell_type": "code",
   "execution_count": null,
   "id": "54105c40-93b4-4f3f-9aa9-ee0abf638b1d",
   "metadata": {},
   "outputs": [],
   "source": [
    "# Capture a camera image and run YOLO detection\n",
    "import cv2\n",
    "image = cv2.imread('test_image.jpg')  # Replace with CARLA camera feed\n",
    "results = detect_objects(image)\n",
    "print(results)  # Print detected objects"
   ]
  },
  {
   "cell_type": "code",
   "execution_count": null,
   "id": "9fb77e80-252b-4dca-9b9a-156340a1e316",
   "metadata": {},
   "outputs": [],
   "source": []
  },
  {
   "cell_type": "code",
   "execution_count": null,
   "id": "39c9f5c3-c748-451b-ade8-a1a5682564b0",
   "metadata": {},
   "outputs": [],
   "source": []
  },
  {
   "cell_type": "code",
   "execution_count": null,
   "id": "b371281b-43c0-4680-8873-f863e7fc5222",
   "metadata": {},
   "outputs": [],
   "source": []
  },
  {
   "cell_type": "code",
   "execution_count": null,
   "id": "922ee4a1-474b-4a57-a4f2-0312e0959d8d",
   "metadata": {},
   "outputs": [],
   "source": []
  },
  {
   "cell_type": "code",
   "execution_count": null,
   "id": "b515ac78-3175-40c2-8280-4fcc4332375c",
   "metadata": {},
   "outputs": [],
   "source": []
  },
  {
   "cell_type": "code",
   "execution_count": null,
   "id": "d80b5141-526d-44f6-b15c-3cb619dcb6a3",
   "metadata": {},
   "outputs": [],
   "source": []
  },
  {
   "cell_type": "code",
   "execution_count": null,
   "id": "eca0a7e7-54cc-4cac-8b92-68f86dbf492f",
   "metadata": {},
   "outputs": [],
   "source": []
  },
  {
   "cell_type": "raw",
   "id": "3bb62bfd-3eec-48cd-98e6-54d2f13ef9bd",
   "metadata": {},
   "source": [
    "\n",
    "Task Type\t                                                                  Use Threading?\t    Use Multiprocessing?\n",
    "NPC control (traffic manager, spawning/destroying)\t                                  ✅ Yes\t    ❌ No\n",
    "Traffic light control (changing signals)\t                                          ✅ Yes\t    ❌ No\n",
    "Real-time object detection (YOLO, OpenCV)\t                                          ❌ No\t    ✅ Yes\n",
    "Running multiple CARLA cameras (image processing)\t                                  ❌ No\t        ✅ Yes\n",
    "Physics simulation (vehicle dynamics, environment interactions)\t                      ❌ No\t        ✅ Yes\n",
    "Sensor fusion (LIDAR + Camera + Radar processing)\t                                  ❌ No\t        ✅ Yes"
   ]
  }
 ],
 "metadata": {
  "kernelspec": {
   "display_name": "Python 3 (ipykernel)",
   "language": "python",
   "name": "python3"
  },
  "language_info": {
   "codemirror_mode": {
    "name": "ipython",
    "version": 3
   },
   "file_extension": ".py",
   "mimetype": "text/x-python",
   "name": "python",
   "nbconvert_exporter": "python",
   "pygments_lexer": "ipython3",
   "version": "3.10.16"
  }
 },
 "nbformat": 4,
 "nbformat_minor": 5
}
