{
 "cells": [
  {
   "cell_type": "code",
   "execution_count": 1,
   "id": "2f6eefe1-8e37-4efb-b489-ff2995f13d80",
   "metadata": {},
   "outputs": [
    {
     "name": "stdout",
     "output_type": "stream",
     "text": [
      "Jupyter environment detected. Enabling Open3D WebVisualizer.\n",
      "[Open3D INFO] WebRTC GUI backend enabled.\n",
      "[Open3D INFO] WebRTCWindowSystem: HTTP handshake server disabled.\n"
     ]
    }
   ],
   "source": [
    "import carla\n",
    "import math\n",
    "import random\n",
    "import numpy as np\n",
    "import cv2\n",
    "import open3d as o3d\n",
    "import subprocess\n",
    "import time\n",
    "import matplotlib"
   ]
  },
  {
   "cell_type": "code",
   "execution_count": 2,
   "id": "6dc7934b-da6c-47b4-b8ec-43c9c7f0b34a",
   "metadata": {},
   "outputs": [],
   "source": [
    "client = carla.Client('localhost', 2000)\n",
    "world = client.get_world()"
   ]
  },
  {
   "cell_type": "code",
   "execution_count": 3,
   "id": "329aec87-ceff-4fb9-b766-66f9b8520924",
   "metadata": {},
   "outputs": [
    {
     "name": "stdout",
     "output_type": "stream",
     "text": [
      "pygame 2.2.0 (SDL 2.28.4, Python 3.10.16)\n",
      "Hello from the pygame community. https://www.pygame.org/contribute.html\n",
      "Allows controlling a vehicle with a keyboard.\n"
     ]
    },
    {
     "name": "stderr",
     "output_type": "stream",
     "text": [
      "INFO: listening to server 127.0.0.1:2000\n"
     ]
    }
   ],
   "source": [
    "!python manual_control.py --filter \"vehicle.dodge.charger\""
   ]
  },
  {
   "cell_type": "code",
   "execution_count": null,
   "id": "474138f1-4c1c-4644-82fc-5aa3d4c12b63",
   "metadata": {},
   "outputs": [],
   "source": []
  }
 ],
 "metadata": {
  "kernelspec": {
   "display_name": "Python 3 (ipykernel)",
   "language": "python",
   "name": "python3"
  },
  "language_info": {
   "codemirror_mode": {
    "name": "ipython",
    "version": 3
   },
   "file_extension": ".py",
   "mimetype": "text/x-python",
   "name": "python",
   "nbconvert_exporter": "python",
   "pygments_lexer": "ipython3",
   "version": "3.10.16"
  }
 },
 "nbformat": 4,
 "nbformat_minor": 5
}
